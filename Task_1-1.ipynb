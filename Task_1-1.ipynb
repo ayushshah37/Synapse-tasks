modern_family=['CLaire_DunPhY','PHiL_dUnpHy','GLoRiA_PriTCheTt','CaMErOn_TuCKEr','StELLa']

indices=[]
characters=[]

for (i,j) in enumerate(modern_family):
    indices.append(i)
    characters.append(j)
print(indices)
print(characters)  
i=0  
for item in characters:
    item=item.lower()
    item=item.replace("_","-")
    characters[i]=item
    i+=1

print(characters)
length = lambda a:len(a)
temp=map(length,characters)
temp =list(temp)
print(temp)  
indices=list(indices)

temp = list(zip(indices,temp))
print(indices)
for (i,j) in temp:
    indices[i]=sum(temp[i])
print(indices)
indices.sort(reverse=True)
print(indices)
Phew_finally={}
i=0
for item in indices:
    Phew_finally.update({indices[i]:characters[i]})
    i+=1
print(Phew_finally)
