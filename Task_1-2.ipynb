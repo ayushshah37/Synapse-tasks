creepy_doll = ['red_light', 'green_light', 'red_light', 'you_got_shot', 'green_light', 'you_got_shot',
'you_got_shot', 'green_light', 'you_ got_shot', 'red_light', 'green_light', 'red_light', 'you_got_shot',
'green_light','red_light', 'red_light', 'green_light', 'you_got_shot','red_light', 'you_got_shot']
next_game=[]
for item in creepy_doll:
    if (item=='green_light'):
        i=creepy_doll.index(item)
        next_game.append(creepy_doll[i:i+1])
        #print()
print(next_game)