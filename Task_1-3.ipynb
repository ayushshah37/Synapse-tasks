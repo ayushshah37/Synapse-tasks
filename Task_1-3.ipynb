class Titandex:
    def hello(self,name,height,strength):
        self.Titan_name=name
        self.Titan_height=height
        self.Titan_strength=strength
x=str(input("enter the name of titan:"))
y=int(input("enter the height of titan:"))
z=int(input("enter the strength of titan:"))

titan_info=Titandex(x,y,z)
print(titan_info.Titan_name,titan_info.Titan_height,titan_info.Titan_strength)
class TitanvsScouts:
    def _init_(self,name,strength):
        self.Scout_name=name
        self.Scout_strength=strength
x=str(input("enter the name of titan:"))
z=int(input("enter the strength of titan:"))

scout_info=TitanvsScouts(x,z)
print(scout_info.Scout_name,scout_info.Scout_strength)
a=0
i=0
while(i>=0 and i<=13):
    #if(titan_info.Titan_strength>scout_info.Scout_strength):
       # a+=1
        #TitanvsScouts._init_(self)
    if(titan_info.Titan_strength==scout_info.Scout_strength):
        print("it is a draw")
    #if(titan_info.Titan_strength<scout_info.Scout_strength):
        #Titandex._init_(self)
        #print(titan_info.Titan_strength)   
         
    
    
    
        i+=1
#class Titandex:
    #def Titans:
    #x=str(input("enter the name of titan:"))
    #y=int(input("enter the height of titan:"))
    #z=int(input("enter the strength of titan:"))